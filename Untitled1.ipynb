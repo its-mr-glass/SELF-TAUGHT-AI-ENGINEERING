{
 "cells": [
  {
   "cell_type": "code",
   "execution_count": 3,
   "id": "90a52e6a-9324-47af-a95f-f5342bba3c50",
   "metadata": {
    "scrolled": true
   },
   "outputs": [],
   "source": [
    "import pandas as pd\n",
    "\n",
    "df = pd.read_csv(\"~/Desktop/18-Months-Of-Self-Taught-AI-Engineering/24-days-of-python/businessdata.csv\")\n",
    "\n"
   ]
  },
  {
   "cell_type": "code",
   "execution_count": null,
   "id": "eb54cae9-7c93-4fca-8f2a-fc631c0020f4",
   "metadata": {},
   "outputs": [],
   "source": []
  }
 ],
 "metadata": {
  "kernelspec": {
   "display_name": "Python 3 (ipykernel)",
   "language": "python",
   "name": "python3"
  },
  "language_info": {
   "codemirror_mode": {
    "name": "ipython",
    "version": 3
   },
   "file_extension": ".py",
   "mimetype": "text/x-python",
   "name": "python",
   "nbconvert_exporter": "python",
   "pygments_lexer": "ipython3",
   "version": "3.12.3"
  }
 },
 "nbformat": 4,
 "nbformat_minor": 5
}
